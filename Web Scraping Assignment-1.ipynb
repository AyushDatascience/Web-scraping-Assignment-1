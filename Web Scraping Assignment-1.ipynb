{
 "cells": [
  {
   "cell_type": "code",
   "execution_count": 1,
   "id": "3618ac50",
   "metadata": {},
   "outputs": [
    {
     "data": {
      "text/plain": [
       "requests.models.Response"
      ]
     },
     "execution_count": 1,
     "metadata": {},
     "output_type": "execute_result"
    }
   ],
   "source": [
    "#1. Write a python program to display all the header tags from ‘en.wikipedia.org/wiki/Main_Page’.\n",
    "\n",
    "import bs4\n",
    "import requests                                    #importing required libraries\n",
    "import pandas as pd\n",
    "link = requests.get(\"https://en.wikipedia.org/wiki/Main_Page\")    # page url \n",
    "type(link)"
   ]
  },
  {
   "cell_type": "code",
   "execution_count": 2,
   "id": "e3b2a606",
   "metadata": {},
   "outputs": [
    {
     "data": {
      "text/plain": [
       "bs4.BeautifulSoup"
      ]
     },
     "execution_count": 2,
     "metadata": {},
     "output_type": "execute_result"
    }
   ],
   "source": [
    "soup=bs4.BeautifulSoup(link.text)\n",
    "type(soup)"
   ]
  },
  {
   "cell_type": "code",
   "execution_count": 5,
   "id": "18237b2c",
   "metadata": {},
   "outputs": [
    {
     "data": {
      "text/plain": [
       "[<span class=\"mw-headline\" id=\"From_today's_featured_article\">From today's featured article</span>,\n",
       " <span class=\"mw-headline\" id=\"Did_you_know_...\">Did you know ...</span>,\n",
       " <span class=\"mw-headline\" id=\"In_the_news\">In the news</span>,\n",
       " <span class=\"mw-headline\" id=\"On_this_day\">On this day</span>,\n",
       " <span class=\"mw-headline\" id=\"From_today's_featured_list\">From today's featured list</span>,\n",
       " <span class=\"mw-headline\" id=\"Today's_featured_picture\">Today's featured picture</span>,\n",
       " <span class=\"mw-headline\" id=\"Other_areas_of_Wikipedia\">Other areas of Wikipedia</span>,\n",
       " <span class=\"mw-headline\" id=\"Wikipedia's_sister_projects\">Wikipedia's sister projects</span>,\n",
       " <span class=\"mw-headline\" id=\"Wikipedia_languages\">Wikipedia languages</span>]"
      ]
     },
     "execution_count": 5,
     "metadata": {},
     "output_type": "execute_result"
    }
   ],
   "source": [
    "soup.select('.mw-headline')              #extracting data from the page"
   ]
  },
  {
   "cell_type": "code",
   "execution_count": 6,
   "id": "6b8f131e",
   "metadata": {},
   "outputs": [
    {
     "name": "stdout",
     "output_type": "stream",
     "text": [
      "From today's featured article\n",
      "Did you know ...\n",
      "In the news\n",
      "On this day\n",
      "From today's featured list\n",
      "Today's featured picture\n",
      "Other areas of Wikipedia\n",
      "Wikipedia's sister projects\n",
      "Wikipedia languages\n"
     ]
    }
   ],
   "source": [
    "for i in soup.select('.mw-headline'):     # converting data into simple Text\n",
    "    print(i.text)"
   ]
  },
  {
   "cell_type": "code",
   "execution_count": null,
   "id": "e9cde532",
   "metadata": {},
   "outputs": [],
   "source": []
  },
  {
   "cell_type": "code",
   "execution_count": null,
   "id": "a0c971ac",
   "metadata": {},
   "outputs": [],
   "source": [
    "#2.Write a python program to display IMDB’s Top rated 100 movies data(i.e.Name,IMDB rating,Year of release)and make data frame."
   ]
  },
  {
   "cell_type": "code",
   "execution_count": 7,
   "id": "a9f68b0c",
   "metadata": {},
   "outputs": [],
   "source": [
    "import pandas as pd\n",
    "import requests                                  #importing required libraries\n",
    "from bs4 import BeautifulSoup\n",
    "\n"
   ]
  },
  {
   "cell_type": "code",
   "execution_count": 8,
   "id": "4aef2801",
   "metadata": {},
   "outputs": [],
   "source": [
    "url = \"https://www.imdb.com/list/ls091520106/\"       #page url\n",
    "response = requests.get(url)\n",
    "soup = BeautifulSoup(response.content,'html.parser')"
   ]
  },
  {
   "cell_type": "code",
   "execution_count": 11,
   "id": "e5b314b4",
   "metadata": {},
   "outputs": [],
   "source": [
    "movie_name = []     #creating empty lists to store data\n",
    "year = []\n",
    "rating = []\n"
   ]
  },
  {
   "cell_type": "code",
   "execution_count": 12,
   "id": "aa3a8808",
   "metadata": {},
   "outputs": [],
   "source": [
    "movie_data = soup.findAll('div', attrs= {'class': 'lister-item mode-detail'})"
   ]
  },
  {
   "cell_type": "code",
   "execution_count": 13,
   "id": "f0dff968",
   "metadata": {},
   "outputs": [],
   "source": [
    "for store in movie_data:                       #using for loop to extract data\n",
    "    name = store.h3.a.text\n",
    "    movie_name.append(name)\n",
    "    \n",
    "    release_year = store.h3.find('span', class_ = 'lister-item-year text-muted unbold').text.replace('(','').replace(')','')\n",
    "    year.append(release_year)\n",
    "    \n",
    "    rate = store.find('div', class_ = 'ipl-rating-star small').text.strip()\n",
    "    rating.append(rate)\n",
    "    "
   ]
  },
  {
   "cell_type": "code",
   "execution_count": 14,
   "id": "86bca66e",
   "metadata": {},
   "outputs": [],
   "source": [
    "movie_DF = pd.DataFrame({'Name of the movie': movie_name, 'Movie rating': rating,'Year of release': year}) \n",
    "#converting extracted data into a dataframe"
   ]
  },
  {
   "cell_type": "code",
   "execution_count": 16,
   "id": "a4d07c28",
   "metadata": {},
   "outputs": [
    {
     "data": {
      "text/html": [
       "<div>\n",
       "<style scoped>\n",
       "    .dataframe tbody tr th:only-of-type {\n",
       "        vertical-align: middle;\n",
       "    }\n",
       "\n",
       "    .dataframe tbody tr th {\n",
       "        vertical-align: top;\n",
       "    }\n",
       "\n",
       "    .dataframe thead th {\n",
       "        text-align: right;\n",
       "    }\n",
       "</style>\n",
       "<table border=\"1\" class=\"dataframe\">\n",
       "  <thead>\n",
       "    <tr style=\"text-align: right;\">\n",
       "      <th></th>\n",
       "      <th>Name of the movie</th>\n",
       "      <th>Movie rating</th>\n",
       "      <th>Year of release</th>\n",
       "    </tr>\n",
       "  </thead>\n",
       "  <tbody>\n",
       "    <tr>\n",
       "      <th>0</th>\n",
       "      <td>The Shawshank Redemption</td>\n",
       "      <td>9.3</td>\n",
       "      <td>1994</td>\n",
       "    </tr>\n",
       "    <tr>\n",
       "      <th>1</th>\n",
       "      <td>The Godfather</td>\n",
       "      <td>9.2</td>\n",
       "      <td>1972</td>\n",
       "    </tr>\n",
       "    <tr>\n",
       "      <th>2</th>\n",
       "      <td>The Godfather: Part II</td>\n",
       "      <td>9</td>\n",
       "      <td>1974</td>\n",
       "    </tr>\n",
       "    <tr>\n",
       "      <th>3</th>\n",
       "      <td>The Dark Knight</td>\n",
       "      <td>9</td>\n",
       "      <td>2008</td>\n",
       "    </tr>\n",
       "    <tr>\n",
       "      <th>4</th>\n",
       "      <td>12 Angry Men</td>\n",
       "      <td>9</td>\n",
       "      <td>1957</td>\n",
       "    </tr>\n",
       "    <tr>\n",
       "      <th>5</th>\n",
       "      <td>Schindler's List</td>\n",
       "      <td>8.9</td>\n",
       "      <td>1993</td>\n",
       "    </tr>\n",
       "    <tr>\n",
       "      <th>6</th>\n",
       "      <td>The Lord of the Rings: The Return of the King</td>\n",
       "      <td>8.9</td>\n",
       "      <td>2003</td>\n",
       "    </tr>\n",
       "    <tr>\n",
       "      <th>7</th>\n",
       "      <td>Pulp Fiction</td>\n",
       "      <td>8.9</td>\n",
       "      <td>1994</td>\n",
       "    </tr>\n",
       "    <tr>\n",
       "      <th>8</th>\n",
       "      <td>Il buono, il brutto, il cattivo</td>\n",
       "      <td>8.8</td>\n",
       "      <td>1966</td>\n",
       "    </tr>\n",
       "    <tr>\n",
       "      <th>9</th>\n",
       "      <td>Fight Club</td>\n",
       "      <td>8.8</td>\n",
       "      <td>1999</td>\n",
       "    </tr>\n",
       "  </tbody>\n",
       "</table>\n",
       "</div>"
      ],
      "text/plain": [
       "                               Name of the movie Movie rating Year of release\n",
       "0                       The Shawshank Redemption          9.3            1994\n",
       "1                                  The Godfather          9.2            1972\n",
       "2                         The Godfather: Part II            9            1974\n",
       "3                                The Dark Knight            9            2008\n",
       "4                                   12 Angry Men            9            1957\n",
       "5                               Schindler's List          8.9            1993\n",
       "6  The Lord of the Rings: The Return of the King          8.9            2003\n",
       "7                                   Pulp Fiction          8.9            1994\n",
       "8                Il buono, il brutto, il cattivo          8.8            1966\n",
       "9                                     Fight Club          8.8            1999"
      ]
     },
     "execution_count": 16,
     "metadata": {},
     "output_type": "execute_result"
    }
   ],
   "source": [
    "movie_DF.head(10)     #Top 10 movies"
   ]
  },
  {
   "cell_type": "code",
   "execution_count": null,
   "id": "b9c2b25b",
   "metadata": {},
   "outputs": [],
   "source": []
  },
  {
   "cell_type": "code",
   "execution_count": 17,
   "id": "c73ae4a6",
   "metadata": {},
   "outputs": [],
   "source": [
    "#3.Write a python program to display IMDB’s Top rated 100 Indian movies data(i.e.Name,Rating,Year of release)and make dataframe."
   ]
  },
  {
   "cell_type": "code",
   "execution_count": 19,
   "id": "9cbbfdbb",
   "metadata": {},
   "outputs": [],
   "source": [
    "url = \"https://www.imdb.com/list/ls009997493/\"     #page url\n",
    "response = requests.get(url)\n",
    "soup = BeautifulSoup(response.content,'html.parser')"
   ]
  },
  {
   "cell_type": "code",
   "execution_count": 20,
   "id": "821e5fc3",
   "metadata": {},
   "outputs": [],
   "source": [
    "movie_name = []             #creating empty lists to store data\n",
    "year = []\n",
    "rating = []"
   ]
  },
  {
   "cell_type": "code",
   "execution_count": 21,
   "id": "38e1aa88",
   "metadata": {},
   "outputs": [],
   "source": [
    "movie_data = soup.findAll('div', attrs= {'class': 'lister-item mode-detail'})        #extracting page data"
   ]
  },
  {
   "cell_type": "code",
   "execution_count": 22,
   "id": "8f93e174",
   "metadata": {},
   "outputs": [],
   "source": [
    "for store in movie_data:                   # extracting required data from the page using for loop\n",
    "    name = store.h3.a.text          \n",
    "    movie_name.append(name)\n",
    "    \n",
    "    release_year = store.h3.find('span', class_ = 'lister-item-year text-muted unbold').text.replace('(','').replace(')','')\n",
    "    year.append(release_year)\n",
    "    \n",
    "    rate = store.find('div', class_ = 'ipl-rating-star small').text.strip()\n",
    "    rating.append(rate)"
   ]
  },
  {
   "cell_type": "code",
   "execution_count": 23,
   "id": "170b6518",
   "metadata": {},
   "outputs": [],
   "source": [
    "movie_DF = pd.DataFrame({'Name of the movie': movie_name, 'Year of release': year, 'Movie rating': rating})\n",
    "#converting extracted data into a dataframe"
   ]
  },
  {
   "cell_type": "code",
   "execution_count": 24,
   "id": "8e77ecf2",
   "metadata": {},
   "outputs": [
    {
     "data": {
      "text/html": [
       "<div>\n",
       "<style scoped>\n",
       "    .dataframe tbody tr th:only-of-type {\n",
       "        vertical-align: middle;\n",
       "    }\n",
       "\n",
       "    .dataframe tbody tr th {\n",
       "        vertical-align: top;\n",
       "    }\n",
       "\n",
       "    .dataframe thead th {\n",
       "        text-align: right;\n",
       "    }\n",
       "</style>\n",
       "<table border=\"1\" class=\"dataframe\">\n",
       "  <thead>\n",
       "    <tr style=\"text-align: right;\">\n",
       "      <th></th>\n",
       "      <th>Name of the movie</th>\n",
       "      <th>Year of release</th>\n",
       "      <th>Movie rating</th>\n",
       "    </tr>\n",
       "  </thead>\n",
       "  <tbody>\n",
       "    <tr>\n",
       "      <th>0</th>\n",
       "      <td>Rang De Basanti</td>\n",
       "      <td>2006</td>\n",
       "      <td>8.1</td>\n",
       "    </tr>\n",
       "    <tr>\n",
       "      <th>1</th>\n",
       "      <td>3 Idiots</td>\n",
       "      <td>2009</td>\n",
       "      <td>8.4</td>\n",
       "    </tr>\n",
       "    <tr>\n",
       "      <th>2</th>\n",
       "      <td>Taare Zameen Par</td>\n",
       "      <td>2007</td>\n",
       "      <td>8.4</td>\n",
       "    </tr>\n",
       "    <tr>\n",
       "      <th>3</th>\n",
       "      <td>Dil Chahta Hai</td>\n",
       "      <td>2001</td>\n",
       "      <td>8.1</td>\n",
       "    </tr>\n",
       "    <tr>\n",
       "      <th>4</th>\n",
       "      <td>Swades: We, the People</td>\n",
       "      <td>2004</td>\n",
       "      <td>8.2</td>\n",
       "    </tr>\n",
       "    <tr>\n",
       "      <th>...</th>\n",
       "      <td>...</td>\n",
       "      <td>...</td>\n",
       "      <td>...</td>\n",
       "    </tr>\n",
       "    <tr>\n",
       "      <th>95</th>\n",
       "      <td>Wake Up Sid</td>\n",
       "      <td>2009</td>\n",
       "      <td>7.6</td>\n",
       "    </tr>\n",
       "    <tr>\n",
       "      <th>96</th>\n",
       "      <td>Rangeela</td>\n",
       "      <td>1995</td>\n",
       "      <td>7.5</td>\n",
       "    </tr>\n",
       "    <tr>\n",
       "      <th>97</th>\n",
       "      <td>Shatranj Ke Khilari</td>\n",
       "      <td>1977</td>\n",
       "      <td>7.6</td>\n",
       "    </tr>\n",
       "    <tr>\n",
       "      <th>98</th>\n",
       "      <td>Pyaar Ka Punchnama</td>\n",
       "      <td>2011</td>\n",
       "      <td>7.6</td>\n",
       "    </tr>\n",
       "    <tr>\n",
       "      <th>99</th>\n",
       "      <td>Ek Hasina Thi</td>\n",
       "      <td>2004</td>\n",
       "      <td>7.5</td>\n",
       "    </tr>\n",
       "  </tbody>\n",
       "</table>\n",
       "<p>100 rows × 3 columns</p>\n",
       "</div>"
      ],
      "text/plain": [
       "         Name of the movie Year of release Movie rating\n",
       "0          Rang De Basanti            2006          8.1\n",
       "1                 3 Idiots            2009          8.4\n",
       "2         Taare Zameen Par            2007          8.4\n",
       "3           Dil Chahta Hai            2001          8.1\n",
       "4   Swades: We, the People            2004          8.2\n",
       "..                     ...             ...          ...\n",
       "95             Wake Up Sid            2009          7.6\n",
       "96                Rangeela            1995          7.5\n",
       "97     Shatranj Ke Khilari            1977          7.6\n",
       "98      Pyaar Ka Punchnama            2011          7.6\n",
       "99           Ek Hasina Thi            2004          7.5\n",
       "\n",
       "[100 rows x 3 columns]"
      ]
     },
     "execution_count": 24,
     "metadata": {},
     "output_type": "execute_result"
    }
   ],
   "source": [
    "movie_DF.head(100) #top 100 movies"
   ]
  },
  {
   "cell_type": "code",
   "execution_count": null,
   "id": "41dd9fca",
   "metadata": {},
   "outputs": [],
   "source": []
  },
  {
   "cell_type": "code",
   "execution_count": 25,
   "id": "3ca86cb5",
   "metadata": {},
   "outputs": [],
   "source": [
    "#4. Write a python program to scrap book name, author name, genre and book review of any 5 books."
   ]
  },
  {
   "cell_type": "code",
   "execution_count": 27,
   "id": "8c8801d2",
   "metadata": {},
   "outputs": [],
   "source": [
    "url = \"https://bookpage.com/reviews\"         #page url\n",
    "response = requests.get(url)\n",
    "soup = BeautifulSoup(response.content,'html.parser')"
   ]
  },
  {
   "cell_type": "code",
   "execution_count": 28,
   "id": "ff59e866",
   "metadata": {},
   "outputs": [],
   "source": [
    "title_name = []\n",
    "author_name = []             #empty list\n",
    "genre = []\n",
    "book_review = []"
   ]
  },
  {
   "cell_type": "code",
   "execution_count": 29,
   "id": "8efa3190",
   "metadata": {},
   "outputs": [],
   "source": [
    "book_data = soup.findAll('div', attrs= {'class': 'row-fluid article-row'})      #page data"
   ]
  },
  {
   "cell_type": "code",
   "execution_count": 30,
   "id": "ebd2d4f4",
   "metadata": {},
   "outputs": [],
   "source": [
    "for store in book_data:                 #extracting required data\n",
    "     \n",
    "    title = store.h4.a.text\n",
    "    title_name.append(title)\n",
    "    \n",
    "    name = store.div.find('p', class_ = 'sans bold').text.strip()\n",
    "    author_name.append(name)\n",
    "    \n",
    "    type = store.div.find('p', class_ = 'genre-links').text.strip()\n",
    "    genre.append(type)\n",
    "    \n",
    "    review = store.div.find('p', class_ = 'excerpt').text.strip()\n",
    "    book_review.append(review)"
   ]
  },
  {
   "cell_type": "code",
   "execution_count": 31,
   "id": "90c9dfcd",
   "metadata": {},
   "outputs": [
    {
     "data": {
      "text/plain": [
       "'Yoke'"
      ]
     },
     "execution_count": 31,
     "metadata": {},
     "output_type": "execute_result"
    }
   ],
   "source": [
    "title"
   ]
  },
  {
   "cell_type": "code",
   "execution_count": 32,
   "id": "395ae5ed",
   "metadata": {},
   "outputs": [
    {
     "data": {
      "text/plain": [
       "'Jessamyn Stanley'"
      ]
     },
     "execution_count": 32,
     "metadata": {},
     "output_type": "execute_result"
    }
   ],
   "source": [
    "name"
   ]
  },
  {
   "cell_type": "code",
   "execution_count": 33,
   "id": "cc5054df",
   "metadata": {},
   "outputs": [
    {
     "data": {
      "text/plain": [
       "'Nonfiction\\n / \\nEssays\\n / \\nBody, Mind & Spirit'"
      ]
     },
     "execution_count": 33,
     "metadata": {},
     "output_type": "execute_result"
    }
   ],
   "source": [
    "type"
   ]
  },
  {
   "cell_type": "code",
   "execution_count": 34,
   "id": "736c8a23",
   "metadata": {},
   "outputs": [
    {
     "data": {
      "text/plain": [
       "'The 13 autobiographical essays in Yoke are brash, outspoken, funny, insightful, honest and occasionally spiced with dashes of self-deprecating melodrama.'"
      ]
     },
     "execution_count": 34,
     "metadata": {},
     "output_type": "execute_result"
    }
   ],
   "source": [
    "review"
   ]
  },
  {
   "cell_type": "code",
   "execution_count": 35,
   "id": "b0c3ce78",
   "metadata": {},
   "outputs": [],
   "source": [
    "book_DF = pd.DataFrame({'Name of the book': title_name, 'Author name': author_name, 'Genre': genre, 'Review': book_review})\n",
    "\n",
    "#coverting into dataframe"
   ]
  },
  {
   "cell_type": "code",
   "execution_count": 36,
   "id": "b3c2795d",
   "metadata": {},
   "outputs": [
    {
     "data": {
      "text/html": [
       "<div>\n",
       "<style scoped>\n",
       "    .dataframe tbody tr th:only-of-type {\n",
       "        vertical-align: middle;\n",
       "    }\n",
       "\n",
       "    .dataframe tbody tr th {\n",
       "        vertical-align: top;\n",
       "    }\n",
       "\n",
       "    .dataframe thead th {\n",
       "        text-align: right;\n",
       "    }\n",
       "</style>\n",
       "<table border=\"1\" class=\"dataframe\">\n",
       "  <thead>\n",
       "    <tr style=\"text-align: right;\">\n",
       "      <th></th>\n",
       "      <th>Name of the book</th>\n",
       "      <th>Author name</th>\n",
       "      <th>Genre</th>\n",
       "      <th>Review</th>\n",
       "    </tr>\n",
       "  </thead>\n",
       "  <tbody>\n",
       "    <tr>\n",
       "      <th>0</th>\n",
       "      <td>The Personal Librarian</td>\n",
       "      <td>Marie Benedict, Victoria Christopher Murray</td>\n",
       "      <td>Fiction\\n / \\nHistorical Fiction</td>\n",
       "      <td>Co-authors Marie Benedict and Victoria Christo...</td>\n",
       "    </tr>\n",
       "    <tr>\n",
       "      <th>1</th>\n",
       "      <td>Lady Sunshine</td>\n",
       "      <td>Amy Mason Doan</td>\n",
       "      <td>Fiction\\n / \\nComing of Age</td>\n",
       "      <td>Jumping between 1979 and 1999, Lady Sunshine u...</td>\n",
       "    </tr>\n",
       "    <tr>\n",
       "      <th>2</th>\n",
       "      <td>Six Crimson Cranes</td>\n",
       "      <td>Elizabeth Lim</td>\n",
       "      <td>YA\\n / \\nYA Fiction</td>\n",
       "      <td>In Six Crimson Cranes, YA fantasist Elizabeth ...</td>\n",
       "    </tr>\n",
       "    <tr>\n",
       "      <th>3</th>\n",
       "      <td>★ Festival Days</td>\n",
       "      <td>Jo Ann Beard, Suehyla El-Attar</td>\n",
       "      <td>Audio\\n / \\nNonfiction\\n / \\nEssays</td>\n",
       "      <td>Actor Suehyla El-Attar reads in a calm, steady...</td>\n",
       "    </tr>\n",
       "    <tr>\n",
       "      <th>4</th>\n",
       "      <td>Listen</td>\n",
       "      <td>Gabi Snyder, Stephanie Graegin</td>\n",
       "      <td>Children's\\n / \\nChildren's Picture Book</td>\n",
       "      <td>In the opening pages of Listen, a girl stands ...</td>\n",
       "    </tr>\n",
       "  </tbody>\n",
       "</table>\n",
       "</div>"
      ],
      "text/plain": [
       "         Name of the book                                  Author name  \\\n",
       "0  The Personal Librarian  Marie Benedict, Victoria Christopher Murray   \n",
       "1           Lady Sunshine                               Amy Mason Doan   \n",
       "2      Six Crimson Cranes                                Elizabeth Lim   \n",
       "3         ★ Festival Days               Jo Ann Beard, Suehyla El-Attar   \n",
       "4                  Listen               Gabi Snyder, Stephanie Graegin   \n",
       "\n",
       "                                      Genre  \\\n",
       "0          Fiction\\n / \\nHistorical Fiction   \n",
       "1               Fiction\\n / \\nComing of Age   \n",
       "2                       YA\\n / \\nYA Fiction   \n",
       "3       Audio\\n / \\nNonfiction\\n / \\nEssays   \n",
       "4  Children's\\n / \\nChildren's Picture Book   \n",
       "\n",
       "                                              Review  \n",
       "0  Co-authors Marie Benedict and Victoria Christo...  \n",
       "1  Jumping between 1979 and 1999, Lady Sunshine u...  \n",
       "2  In Six Crimson Cranes, YA fantasist Elizabeth ...  \n",
       "3  Actor Suehyla El-Attar reads in a calm, steady...  \n",
       "4  In the opening pages of Listen, a girl stands ...  "
      ]
     },
     "execution_count": 36,
     "metadata": {},
     "output_type": "execute_result"
    }
   ],
   "source": [
    "book_DF.head(5)   #5 book reviews"
   ]
  },
  {
   "cell_type": "markdown",
   "id": "74be1692",
   "metadata": {},
   "source": []
  },
  {
   "cell_type": "code",
   "execution_count": 38,
   "id": "89cd00c4",
   "metadata": {},
   "outputs": [],
   "source": [
    "#5(1).Top 10 ODI teams in men’s cricket along with the records for matches, points and rating."
   ]
  },
  {
   "cell_type": "code",
   "execution_count": 39,
   "id": "6b63870a",
   "metadata": {},
   "outputs": [],
   "source": [
    "url = \"https://www.icc-cricket.com/rankings/mens/team-rankings/odi\"   #page url\n",
    "response = requests.get(url)\n",
    "soup = BeautifulSoup(response.content, 'html.parser')"
   ]
  },
  {
   "cell_type": "code",
   "execution_count": 40,
   "id": "b5d083c3",
   "metadata": {},
   "outputs": [],
   "source": [
    "team_name = []        #empty lists\n",
    "matches = []\n",
    "points = []\n",
    "rating = []"
   ]
  },
  {
   "cell_type": "code",
   "execution_count": 41,
   "id": "9ad2e92c",
   "metadata": {},
   "outputs": [
    {
     "data": {
      "text/plain": [
       "[<span class=\"u-hide-phablet\">New Zealand</span>,\n",
       " <span class=\"u-hide-phablet\">Australia</span>,\n",
       " <span class=\"u-hide-phablet\">India</span>,\n",
       " <span class=\"u-hide-phablet\">England</span>,\n",
       " <span class=\"u-hide-phablet\">South Africa</span>,\n",
       " <span class=\"u-hide-phablet\">Pakistan</span>,\n",
       " <span class=\"u-hide-phablet\">Bangladesh</span>,\n",
       " <span class=\"u-hide-phablet\">West Indies</span>,\n",
       " <span class=\"u-hide-phablet\">Sri Lanka</span>,\n",
       " <span class=\"u-hide-phablet\">Afghanistan</span>,\n",
       " <span class=\"u-hide-phablet\">Netherlands</span>,\n",
       " <span class=\"u-hide-phablet\">Ireland</span>,\n",
       " <span class=\"u-hide-phablet\">Zimbabwe</span>,\n",
       " <span class=\"u-hide-phablet\">Scotland</span>,\n",
       " <span class=\"u-hide-phablet\">Oman</span>,\n",
       " <span class=\"u-hide-phablet\">Nepal</span>,\n",
       " <span class=\"u-hide-phablet\">UAE</span>,\n",
       " <span class=\"u-hide-phablet\">Namibia</span>,\n",
       " <span class=\"u-hide-phablet\">United States</span>,\n",
       " <span class=\"u-hide-phablet\">Papua New Guinea</span>,\n",
       " <span class=\"icn icn-facebook-circle u-hide-phablet\"></span>,\n",
       " <span class=\"icn icn-twitter-circle u-hide-phablet\"></span>,\n",
       " <span class=\"icn icn-instagram-circle u-hide-phablet\"></span>,\n",
       " <span class=\"icn icn-youtube-circle u-hide-phablet\"></span>,\n",
       " <span class=\"icn icn-tiktok-circle u-hide-phablet\"></span>]"
      ]
     },
     "execution_count": 41,
     "metadata": {},
     "output_type": "execute_result"
    }
   ],
   "source": [
    "name_of_team = soup.find_all(\"span\",class_='u-hide-phablet')\n",
    "name_of_team "
   ]
  },
  {
   "cell_type": "code",
   "execution_count": 42,
   "id": "025b108c",
   "metadata": {},
   "outputs": [
    {
     "data": {
      "text/plain": [
       "['New Zealand',\n",
       " 'Australia',\n",
       " 'India',\n",
       " 'England',\n",
       " 'South Africa',\n",
       " 'Pakistan',\n",
       " 'Bangladesh',\n",
       " 'West Indies',\n",
       " 'Sri Lanka',\n",
       " 'Afghanistan',\n",
       " 'Netherlands',\n",
       " 'Ireland',\n",
       " 'Zimbabwe',\n",
       " 'Scotland',\n",
       " 'Oman',\n",
       " 'Nepal',\n",
       " 'UAE',\n",
       " 'Namibia',\n",
       " 'United States',\n",
       " 'Papua New Guinea',\n",
       " '',\n",
       " '',\n",
       " '',\n",
       " '',\n",
       " '']"
      ]
     },
     "execution_count": 42,
     "metadata": {},
     "output_type": "execute_result"
    }
   ],
   "source": [
    "for i in name_of_team:\n",
    "    team_name.append(i.text)\n",
    "team_name"
   ]
  },
  {
   "cell_type": "code",
   "execution_count": 43,
   "id": "aec3e8a3",
   "metadata": {},
   "outputs": [
    {
     "data": {
      "text/plain": [
       "[<td class=\"rankings-block__banner--matches\">17</td>]"
      ]
     },
     "execution_count": 43,
     "metadata": {},
     "output_type": "execute_result"
    }
   ],
   "source": [
    "match1 = soup.find_all(\"td\",class_='rankings-block__banner--matches')\n",
    "match1"
   ]
  },
  {
   "cell_type": "code",
   "execution_count": 44,
   "id": "00c8cbc4",
   "metadata": {},
   "outputs": [
    {
     "data": {
      "text/plain": [
       "['17']"
      ]
     },
     "execution_count": 44,
     "metadata": {},
     "output_type": "execute_result"
    }
   ],
   "source": [
    "for i in match1:\n",
    "    matches.append(i.text)\n",
    "matches"
   ]
  },
  {
   "cell_type": "code",
   "execution_count": 45,
   "id": "90128004",
   "metadata": {},
   "outputs": [],
   "source": [
    "matches2 = []"
   ]
  },
  {
   "cell_type": "code",
   "execution_count": 46,
   "id": "3ca3f8fe",
   "metadata": {},
   "outputs": [],
   "source": [
    "match = soup.find_all(\"td\",class_='table-body__cell u-center-text')"
   ]
  },
  {
   "cell_type": "code",
   "execution_count": 47,
   "id": "9b8580d0",
   "metadata": {},
   "outputs": [
    {
     "data": {
      "text/plain": [
       "['25',\n",
       " '2,945',\n",
       " '29',\n",
       " '3,344',\n",
       " '27',\n",
       " '3,100',\n",
       " '20',\n",
       " '2,137',\n",
       " '24',\n",
       " '2,323',\n",
       " '27',\n",
       " '2,438',\n",
       " '27',\n",
       " '2,222',\n",
       " '24',\n",
       " '1,876',\n",
       " '17',\n",
       " '1,054',\n",
       " '7',\n",
       " '336',\n",
       " '21',\n",
       " '897',\n",
       " '15',\n",
       " '588',\n",
       " '7',\n",
       " '258',\n",
       " '7',\n",
       " '240',\n",
       " '5',\n",
       " '119',\n",
       " '9',\n",
       " '190',\n",
       " '6',\n",
       " '97',\n",
       " '8',\n",
       " '93',\n",
       " '5',\n",
       " '0']"
      ]
     },
     "execution_count": 47,
     "metadata": {},
     "output_type": "execute_result"
    }
   ],
   "source": [
    "for i in match:\n",
    "    matches2.append(i.text)\n",
    "matches2 "
   ]
  },
  {
   "cell_type": "code",
   "execution_count": 48,
   "id": "14605e78",
   "metadata": {},
   "outputs": [],
   "source": [
    "for i in range(0,len(matches2),2):     \n",
    "    matches.append(matches2[i])\n",
    "    points.append(matches2[i+1])"
   ]
  },
  {
   "cell_type": "code",
   "execution_count": 49,
   "id": "c475954e",
   "metadata": {},
   "outputs": [
    {
     "data": {
      "text/plain": [
       "['17',\n",
       " '25',\n",
       " '29',\n",
       " '27',\n",
       " '20',\n",
       " '24',\n",
       " '27',\n",
       " '27',\n",
       " '24',\n",
       " '17',\n",
       " '7',\n",
       " '21',\n",
       " '15',\n",
       " '7',\n",
       " '7',\n",
       " '5',\n",
       " '9',\n",
       " '6',\n",
       " '8',\n",
       " '5']"
      ]
     },
     "execution_count": 49,
     "metadata": {},
     "output_type": "execute_result"
    }
   ],
   "source": [
    "matches"
   ]
  },
  {
   "cell_type": "code",
   "execution_count": 50,
   "id": "9f4c29c2",
   "metadata": {},
   "outputs": [
    {
     "data": {
      "text/plain": [
       "['2,945',\n",
       " '3,344',\n",
       " '3,100',\n",
       " '2,137',\n",
       " '2,323',\n",
       " '2,438',\n",
       " '2,222',\n",
       " '1,876',\n",
       " '1,054',\n",
       " '336',\n",
       " '897',\n",
       " '588',\n",
       " '258',\n",
       " '240',\n",
       " '119',\n",
       " '190',\n",
       " '97',\n",
       " '93',\n",
       " '0']"
      ]
     },
     "execution_count": 50,
     "metadata": {},
     "output_type": "execute_result"
    }
   ],
   "source": [
    "points"
   ]
  },
  {
   "cell_type": "code",
   "execution_count": 51,
   "id": "29cc555e",
   "metadata": {},
   "outputs": [],
   "source": [
    "rate = soup.find_all(\"td\",class_='table-body__cell u-text-right rating')"
   ]
  },
  {
   "cell_type": "code",
   "execution_count": 52,
   "id": "d75eb0fe",
   "metadata": {},
   "outputs": [
    {
     "data": {
      "text/plain": [
       "['118',\n",
       " '115',\n",
       " '115',\n",
       " '107',\n",
       " '97',\n",
       " '90',\n",
       " '82',\n",
       " '78',\n",
       " '62',\n",
       " '48',\n",
       " '43',\n",
       " '39',\n",
       " '37',\n",
       " '34',\n",
       " '24',\n",
       " '21',\n",
       " '16',\n",
       " '12',\n",
       " '0']"
      ]
     },
     "execution_count": 52,
     "metadata": {},
     "output_type": "execute_result"
    }
   ],
   "source": [
    "for i in rate:\n",
    "    rating.append(i.text)\n",
    "rating"
   ]
  },
  {
   "cell_type": "code",
   "execution_count": 53,
   "id": "a025b88d",
   "metadata": {},
   "outputs": [
    {
     "name": "stdout",
     "output_type": "stream",
     "text": [
      "25\n",
      "20\n",
      "19\n",
      "19\n"
     ]
    }
   ],
   "source": [
    "print(len(team_name))   #checkinig the length of each list\n",
    "print(len(matches))\n",
    "print(len(points))\n",
    "print(len(rate))"
   ]
  },
  {
   "cell_type": "code",
   "execution_count": null,
   "id": "0b240d4e",
   "metadata": {},
   "outputs": [],
   "source": [
    "DF = pd.DataFrame({'Team Name': team_name, 'Matches': matches,'Points': points, 'Rating': rate})\n",
    "\n",
    "#due to variation in length couldn't covert the data into dataframe.\n",
    "#i faced same issue in both 5&6th Question."
   ]
  },
  {
   "cell_type": "code",
   "execution_count": null,
   "id": "2ac440bb",
   "metadata": {},
   "outputs": [],
   "source": []
  },
  {
   "cell_type": "code",
   "execution_count": null,
   "id": "37020ae7",
   "metadata": {},
   "outputs": [],
   "source": [
    "#7.Write a python program to scrape details of all the mobile phones under Rs. 20,000 listed on Amazon.in.The\n",
    "#  scraped data should include Product Name, Price, Image URL and Average Rating."
   ]
  },
  {
   "cell_type": "code",
   "execution_count": 89,
   "id": "9cd974dd",
   "metadata": {},
   "outputs": [
    {
     "name": "stdout",
     "output_type": "stream",
     "text": [
      "Requirement already satisfied: selenium in c:\\users\\admin\\anaconda3\\lib\\site-packages (3.141.0)\n",
      "Requirement already satisfied: urllib3 in c:\\users\\admin\\anaconda3\\lib\\site-packages (from selenium) (1.26.4)\n"
     ]
    }
   ],
   "source": [
    "!pip install selenium   #installing selenium"
   ]
  },
  {
   "cell_type": "code",
   "execution_count": 90,
   "id": "3f2bad03",
   "metadata": {},
   "outputs": [],
   "source": [
    "import pandas as pd           \n",
    "import selenium\n",
    "from selenium import webdriver\n",
    "from bs4 import BeautifulSoup\n",
    "from selenium.common.exceptions import StaleElementReferenceException, NoSuchElementException"
   ]
  },
  {
   "cell_type": "code",
   "execution_count": 91,
   "id": "42151ff9",
   "metadata": {},
   "outputs": [],
   "source": [
    "driver = webdriver.Chrome(\"chromedriver.exe\")   #initiating chrome driver"
   ]
  },
  {
   "cell_type": "code",
   "execution_count": 92,
   "id": "c2581a06",
   "metadata": {},
   "outputs": [],
   "source": [
    "url = \"https://www.amazon.in/\"\n",
    "driver.get(url)"
   ]
  },
  {
   "cell_type": "code",
   "execution_count": 93,
   "id": "dc1193e2",
   "metadata": {},
   "outputs": [],
   "source": [
    "search_box = driver.find_element_by_id (\"twotabsearchtextbox\")    #sending search keywords to amazon seacrhbox\n",
    "search_box.send_keys(\"mobile phone under 20,000\")"
   ]
  },
  {
   "cell_type": "code",
   "execution_count": 94,
   "id": "2c0fde8c",
   "metadata": {},
   "outputs": [],
   "source": [
    "search_button = driver.find_element_by_id(\"nav-search-submit-button\")   # clicking seacrh button \n",
    "search_button.click()"
   ]
  },
  {
   "cell_type": "code",
   "execution_count": 95,
   "id": "dcfd555f",
   "metadata": {},
   "outputs": [],
   "source": [
    "product_name = []\n",
    "price = []\n",
    "image = []\n",
    "rating = []"
   ]
  },
  {
   "cell_type": "code",
   "execution_count": 96,
   "id": "44fcc5c6",
   "metadata": {},
   "outputs": [
    {
     "data": {
      "text/plain": [
       "['Samsung Galaxy M31 (Ocean Blue, 8GB RAM, 128GB Storage)',\n",
       " 'Vivo Y51A (Titanium Sapphire, 8GB, 128GB Storage) with No Cost EMI/Additional Exchange Offers',\n",
       " 'Redmi 9 Power (Mighty Black, 6GB RAM, 128GB Storage) - 6000mAh Battery |FHD+ Screen| 48MP Quad Camera | Snapdragon 662 Processor',\n",
       " 'Panasonic Eluga i7 (2GB RAM, 16GB Storage, Finger Print Sensor, 4000mAh Battery) (Black)',\n",
       " 'Redmi 9 (Sky Blue, 4GB RAM, 64GB Storage)| 5000 mAh| 2.3GHz Mediatek Helio G35 Octa core Processor',\n",
       " 'Samsung Galaxy M11 (Metallic Blue, 4GB RAM, 64GB Storage) with No Cost EMI/Additional Exchange Offers',\n",
       " 'Samsung Galaxy M31s (Mirage Black, 6GB RAM, 128GB Storage)',\n",
       " 'Redmi Note 10 (Aqua Green, 6GB RAM, 128GB Storage) - Amoled Dot Display | 48MP Sony Sensor IMX582 | Snapdragon 678 Processor',\n",
       " 'Redmi 9A (Nature Green, 2GB RAM, 32GB Storage) | 2GHz Octa-core Helio G25 Processor | 5000 mAh Battery',\n",
       " 'Samsung Galaxy M42 5G (Prism Dot Black, 8GB RAM, 128GB Storage)',\n",
       " 'Samsung Galaxy M11 (Black, 4GB RAM, 64GB Storage) with No Cost EMI/Additional Exchange Offers',\n",
       " 'Redmi Note 10S (Deep Sea Blue, 6GB RAM, 128GB Storage) - Super Amoled Display | 64 MP Quad Camera |NCEMI Offer on HDFC Cards',\n",
       " 'Redmi 9 Power (Electric Green, 6GB RAM, 128GB Storage) - 6000mAh Battery|FHD+ Screen | 48MP Quad Camera | Snapdragon 662 Processor',\n",
       " 'Samsung Galaxy M31 (Space Black, 8GB RAM, 128GB Storage)',\n",
       " 'Samsung Galaxy M51 (Electric Blue, 6GB RAM, 128GB Storage)',\n",
       " 'Redmi Note 10S (Shadow Black, 6GB RAM, 64GB Storage) - Super Amoled Display | 64 MP Quad Camera|NCEMI Offer on HDFC Cards']"
      ]
     },
     "execution_count": 96,
     "metadata": {},
     "output_type": "execute_result"
    }
   ],
   "source": [
    "name = driver.find_elements_by_xpath(\"//span[@class='a-size-medium a-color-base a-text-normal']\")\n",
    "for i in name:\n",
    "    product_name.append(i.text)    \n",
    "product_name"
   ]
  },
  {
   "cell_type": "code",
   "execution_count": 97,
   "id": "667cad00",
   "metadata": {},
   "outputs": [
    {
     "data": {
      "text/plain": [
       "['16,999',\n",
       " '17,990',\n",
       " '12,999',\n",
       " '5,298',\n",
       " '8,799',\n",
       " '9,499',\n",
       " '16,999',\n",
       " '14,999',\n",
       " '6,799',\n",
       " '23,999',\n",
       " '9,499',\n",
       " '15,999',\n",
       " '12,999',\n",
       " '16,999',\n",
       " '20,999',\n",
       " '14,999']"
      ]
     },
     "execution_count": 97,
     "metadata": {},
     "output_type": "execute_result"
    }
   ],
   "source": [
    "cost = driver.find_elements_by_xpath(\"//span[@class='a-price-whole']\")\n",
    "for i in cost:\n",
    "    price.append(i.text)    \n",
    "price"
   ]
  },
  {
   "cell_type": "code",
   "execution_count": 98,
   "id": "5315bcfc",
   "metadata": {},
   "outputs": [
    {
     "data": {
      "text/plain": [
       "['https://m.media-amazon.com/images/I/71-Su4Wr0HL._AC_UY218_.jpg',\n",
       " 'https://m.media-amazon.com/images/I/71BRHXBME2L._AC_UY218_.jpg',\n",
       " 'https://m.media-amazon.com/images/I/61LHaUOhehL._AC_UY218_.jpg',\n",
       " 'https://m.media-amazon.com/images/I/41QsvcpKaZL._AC_UY218_.jpg',\n",
       " 'https://m.media-amazon.com/images/I/71A9Vo1BatL._AC_UY218_.jpg',\n",
       " 'https://m.media-amazon.com/images/I/71GQUxuSpnS._AC_UY218_.jpg',\n",
       " 'https://m.media-amazon.com/images/I/71BFG8Zu7zL._AC_UY218_.jpg',\n",
       " 'https://m.media-amazon.com/images/I/71-BcSc9rhS._AC_UY218_.jpg',\n",
       " 'https://m.media-amazon.com/images/I/71sxlhYhKWL._AC_UY218_.jpg',\n",
       " 'https://m.media-amazon.com/images/I/71LweCKOpFL._AC_UY218_.jpg']"
      ]
     },
     "execution_count": 98,
     "metadata": {},
     "output_type": "execute_result"
    }
   ],
   "source": [
    "url = driver.find_elements_by_xpath(\"//img[@class='s-image']\")\n",
    "for i in url:\n",
    "    image.append(i.get_attribute(\"src\"))    \n",
    "image[:10]"
   ]
  },
  {
   "cell_type": "code",
   "execution_count": 99,
   "id": "1534ee68",
   "metadata": {},
   "outputs": [
    {
     "data": {
      "text/plain": [
       "['',\n",
       " '',\n",
       " '',\n",
       " '',\n",
       " '',\n",
       " '',\n",
       " '',\n",
       " '',\n",
       " '',\n",
       " '',\n",
       " '',\n",
       " '',\n",
       " '',\n",
       " '',\n",
       " '',\n",
       " '',\n",
       " '',\n",
       " '',\n",
       " '',\n",
       " '']"
      ]
     },
     "execution_count": 99,
     "metadata": {},
     "output_type": "execute_result"
    }
   ],
   "source": [
    "rate = driver.find_elements_by_xpath(\"//span[@class='a-icon-alt']\")\n",
    "for i in rate:\n",
    "    rating.append(i.text)    \n",
    "rating"
   ]
  },
  {
   "cell_type": "code",
   "execution_count": null,
   "id": "45a9e2ea",
   "metadata": {},
   "outputs": [],
   "source": [
    "DF = pd.DataFrame({'Mobile name': product_name, 'Price': cost,'Image URL': image, 'Ratings': rating})\n",
    "\n",
    "#due to variation in length couldn't frame a dataset."
   ]
  },
  {
   "cell_type": "code",
   "execution_count": null,
   "id": "e540512e",
   "metadata": {},
   "outputs": [],
   "source": []
  },
  {
   "cell_type": "code",
   "execution_count": 101,
   "id": "d12d4c1a",
   "metadata": {},
   "outputs": [],
   "source": [
    "url = \"https://forecast.weather.gov/MapClick.php?lat=37.777120000000025&lon=-122.41963999999996#.YNHlmGgzY2w\"   #page url\n",
    "response = requests.get(url)\n",
    "soup = BeautifulSoup(response.content,'lxml')"
   ]
  },
  {
   "cell_type": "code",
   "execution_count": 102,
   "id": "79198eaa",
   "metadata": {},
   "outputs": [],
   "source": [
    "period = []\n",
    "short_description = []\n",
    "temperature = []\n",
    "description = []"
   ]
  },
  {
   "cell_type": "code",
   "execution_count": 103,
   "id": "5949e289",
   "metadata": {},
   "outputs": [
    {
     "data": {
      "text/plain": [
       "[<p class=\"period-name\">Today<br/><br/></p>,\n",
       " <p class=\"period-name\">Tonight<br/><br/></p>,\n",
       " <p class=\"period-name\">Tuesday<br/><br/></p>,\n",
       " <p class=\"period-name\">Tuesday<br/>Night</p>,\n",
       " <p class=\"period-name\">Wednesday<br/><br/></p>,\n",
       " <p class=\"period-name\">Wednesday<br/>Night</p>,\n",
       " <p class=\"period-name\">Thursday<br/><br/></p>,\n",
       " <p class=\"period-name\">Thursday<br/>Night</p>,\n",
       " <p class=\"period-name\">Friday<br/><br/></p>]"
      ]
     },
     "execution_count": 103,
     "metadata": {},
     "output_type": "execute_result"
    }
   ],
   "source": [
    "time = soup.find_all('p', class_ = 'period-name')\n",
    "time"
   ]
  },
  {
   "cell_type": "code",
   "execution_count": 104,
   "id": "1835c264",
   "metadata": {},
   "outputs": [
    {
     "data": {
      "text/plain": [
       "['Today',\n",
       " 'Tonight',\n",
       " 'Tuesday',\n",
       " 'TuesdayNight',\n",
       " 'Wednesday',\n",
       " 'WednesdayNight',\n",
       " 'Thursday',\n",
       " 'ThursdayNight',\n",
       " 'Friday']"
      ]
     },
     "execution_count": 104,
     "metadata": {},
     "output_type": "execute_result"
    }
   ],
   "source": [
    "for i in time:\n",
    "    period.append(i.text)\n",
    "period "
   ]
  },
  {
   "cell_type": "code",
   "execution_count": 105,
   "id": "e0214d62",
   "metadata": {},
   "outputs": [
    {
     "data": {
      "text/plain": [
       "[<p class=\"short-desc\">Mostly Sunny<br/>then Sunny<br/>and Breezy</p>,\n",
       " <p class=\"short-desc\">Mostly Clear<br/>and Breezy<br/>then Partly<br/>Cloudy</p>,\n",
       " <p class=\"short-desc\">Sunny then<br/>Sunny and<br/>Breezy</p>,\n",
       " <p class=\"short-desc\">Mostly Clear<br/>and Breezy<br/>then Mostly<br/>Cloudy</p>,\n",
       " <p class=\"short-desc\">Partly Sunny<br/>then Mostly<br/>Sunny and<br/>Breezy</p>,\n",
       " <p class=\"short-desc\">Partly Cloudy<br/>and Breezy<br/>then Mostly<br/>Cloudy</p>,\n",
       " <p class=\"short-desc\">Mostly Sunny</p>,\n",
       " <p class=\"short-desc\">Mostly Cloudy</p>,\n",
       " <p class=\"short-desc\">Mostly Sunny</p>]"
      ]
     },
     "execution_count": 105,
     "metadata": {},
     "output_type": "execute_result"
    }
   ],
   "source": [
    "s_des = soup.find_all('p', class_ = 'short-desc')\n",
    "s_des"
   ]
  },
  {
   "cell_type": "code",
   "execution_count": 106,
   "id": "f7d42c96",
   "metadata": {},
   "outputs": [
    {
     "data": {
      "text/plain": [
       "['Mostly Sunnythen Sunnyand Breezy',\n",
       " 'Mostly Clearand Breezythen PartlyCloudy',\n",
       " 'Sunny thenSunny andBreezy',\n",
       " 'Mostly Clearand Breezythen MostlyCloudy',\n",
       " 'Partly Sunnythen MostlySunny andBreezy',\n",
       " 'Partly Cloudyand Breezythen MostlyCloudy',\n",
       " 'Mostly Sunny',\n",
       " 'Mostly Cloudy',\n",
       " 'Mostly Sunny']"
      ]
     },
     "execution_count": 106,
     "metadata": {},
     "output_type": "execute_result"
    }
   ],
   "source": [
    "for i in s_des:\n",
    "    short_description.append(i.text)\n",
    "short_description"
   ]
  },
  {
   "cell_type": "code",
   "execution_count": 107,
   "id": "7acf7bdf",
   "metadata": {},
   "outputs": [
    {
     "data": {
      "text/plain": [
       "[<p class=\"temp temp-low\">Low: 58 °F</p>,\n",
       " <p class=\"temp temp-low\">Low: 58 °F</p>,\n",
       " <p class=\"temp temp-low\">Low: 58 °F</p>,\n",
       " <p class=\"temp temp-low\">Low: 58 °F</p>]"
      ]
     },
     "execution_count": 107,
     "metadata": {},
     "output_type": "execute_result"
    }
   ],
   "source": [
    "temp1 = soup.find_all('p', class_ = 'temp temp-low')\n",
    "temp1"
   ]
  },
  {
   "cell_type": "code",
   "execution_count": 108,
   "id": "be2c30ec",
   "metadata": {},
   "outputs": [
    {
     "data": {
      "text/plain": [
       "['Low: 58 °F', 'Low: 58 °F', 'Low: 58 °F', 'Low: 58 °F']"
      ]
     },
     "execution_count": 108,
     "metadata": {},
     "output_type": "execute_result"
    }
   ],
   "source": [
    "for i in temp1:\n",
    "    temperature.append(i.text)\n",
    "temperature"
   ]
  },
  {
   "cell_type": "code",
   "execution_count": 109,
   "id": "89e4a5eb",
   "metadata": {},
   "outputs": [
    {
     "data": {
      "text/plain": [
       "[<p class=\"temp temp-high\">High: 70 °F</p>,\n",
       " <p class=\"temp temp-high\">High: 73 °F</p>,\n",
       " <p class=\"temp temp-high\">High: 69 °F</p>,\n",
       " <p class=\"temp temp-high\">High: 69 °F</p>,\n",
       " <p class=\"temp temp-high\">High: 70 °F</p>]"
      ]
     },
     "execution_count": 109,
     "metadata": {},
     "output_type": "execute_result"
    }
   ],
   "source": [
    "temp2 = soup.find_all('p', class_ = 'temp temp-high')\n",
    "temp2"
   ]
  },
  {
   "cell_type": "code",
   "execution_count": 110,
   "id": "96db2163",
   "metadata": {},
   "outputs": [
    {
     "data": {
      "text/plain": [
       "['Low: 58 °F',\n",
       " 'Low: 58 °F',\n",
       " 'Low: 58 °F',\n",
       " 'Low: 58 °F',\n",
       " 'High: 70 °F',\n",
       " 'High: 73 °F',\n",
       " 'High: 69 °F',\n",
       " 'High: 69 °F',\n",
       " 'High: 70 °F']"
      ]
     },
     "execution_count": 110,
     "metadata": {},
     "output_type": "execute_result"
    }
   ],
   "source": [
    "for i in temp2:\n",
    "    temperature.append(i.text)\n",
    "temperature"
   ]
  },
  {
   "cell_type": "code",
   "execution_count": 111,
   "id": "5f31488b",
   "metadata": {},
   "outputs": [
    {
     "data": {
      "text/plain": [
       "[<div class=\"col-sm-10 forecast-text\">Mostly cloudy early, then gradual clearing, with a high near 70. Breezy, with a west wind 18 to 28 mph, with gusts as high as 37 mph. </div>,\n",
       " <div class=\"col-sm-10 forecast-text\">Mostly clear, with a low around 58. Breezy, with a west wind 21 to 26 mph decreasing to 14 to 19 mph after midnight. Winds could gust as high as 34 mph. </div>,\n",
       " <div class=\"col-sm-10 forecast-text\">Sunny, with a high near 73. Breezy, with a west wind 5 to 10 mph increasing to 18 to 23 mph in the afternoon. Winds could gust as high as 30 mph. </div>,\n",
       " <div class=\"col-sm-10 forecast-text\">Increasing clouds, with a low around 58. Breezy, with a west wind 13 to 23 mph, with gusts as high as 30 mph. </div>,\n",
       " <div class=\"col-sm-10 forecast-text\">Mostly sunny, with a high near 69. Breezy, with a southwest wind 10 to 15 mph increasing to 19 to 24 mph in the afternoon. Winds could gust as high as 32 mph. </div>,\n",
       " <div class=\"col-sm-10 forecast-text\">Mostly cloudy, with a low around 58. Breezy. </div>,\n",
       " <div class=\"col-sm-10 forecast-text\">Mostly sunny, with a high near 69.</div>,\n",
       " <div class=\"col-sm-10 forecast-text\">Mostly cloudy, with a low around 58.</div>,\n",
       " <div class=\"col-sm-10 forecast-text\">Mostly sunny, with a high near 70.</div>,\n",
       " <div class=\"col-sm-10 forecast-text\">Mostly cloudy, with a low around 58.</div>,\n",
       " <div class=\"col-sm-10 forecast-text\">Mostly sunny, with a high near 69.</div>,\n",
       " <div class=\"col-sm-10 forecast-text\">Mostly cloudy, with a low around 58.</div>,\n",
       " <div class=\"col-sm-10 forecast-text\">Mostly sunny, with a high near 70.</div>]"
      ]
     },
     "execution_count": 111,
     "metadata": {},
     "output_type": "execute_result"
    }
   ],
   "source": [
    "des = soup.find_all('div', class_ = 'col-sm-10 forecast-text')\n",
    "des"
   ]
  },
  {
   "cell_type": "code",
   "execution_count": 112,
   "id": "5e382b86",
   "metadata": {},
   "outputs": [
    {
     "data": {
      "text/plain": [
       "['Mostly cloudy early, then gradual clearing, with a high near 70. Breezy, with a west wind 18 to 28 mph, with gusts as high as 37 mph. ',\n",
       " 'Mostly clear, with a low around 58. Breezy, with a west wind 21 to 26 mph decreasing to 14 to 19 mph after midnight. Winds could gust as high as 34 mph. ',\n",
       " 'Sunny, with a high near 73. Breezy, with a west wind 5 to 10 mph increasing to 18 to 23 mph in the afternoon. Winds could gust as high as 30 mph. ',\n",
       " 'Increasing clouds, with a low around 58. Breezy, with a west wind 13 to 23 mph, with gusts as high as 30 mph. ',\n",
       " 'Mostly sunny, with a high near 69. Breezy, with a southwest wind 10 to 15 mph increasing to 19 to 24 mph in the afternoon. Winds could gust as high as 32 mph. ',\n",
       " 'Mostly cloudy, with a low around 58. Breezy. ',\n",
       " 'Mostly sunny, with a high near 69.',\n",
       " 'Mostly cloudy, with a low around 58.']"
      ]
     },
     "execution_count": 112,
     "metadata": {},
     "output_type": "execute_result"
    }
   ],
   "source": [
    "for i in des:\n",
    "    description.append(i.text)# unable to reduce the number of extracted data to 9, to meet the same number of length as others\n",
    "description[0:8]"
   ]
  },
  {
   "cell_type": "code",
   "execution_count": 113,
   "id": "11aaac14",
   "metadata": {},
   "outputs": [],
   "source": [
    "DF = pd.DataFrame({'Day': period, 'Temperature': temperature, 'Short_description': s_des}) # didnt add description to dataset."
   ]
  },
  {
   "cell_type": "code",
   "execution_count": 114,
   "id": "06c182e9",
   "metadata": {},
   "outputs": [
    {
     "data": {
      "text/html": [
       "<div>\n",
       "<style scoped>\n",
       "    .dataframe tbody tr th:only-of-type {\n",
       "        vertical-align: middle;\n",
       "    }\n",
       "\n",
       "    .dataframe tbody tr th {\n",
       "        vertical-align: top;\n",
       "    }\n",
       "\n",
       "    .dataframe thead th {\n",
       "        text-align: right;\n",
       "    }\n",
       "</style>\n",
       "<table border=\"1\" class=\"dataframe\">\n",
       "  <thead>\n",
       "    <tr style=\"text-align: right;\">\n",
       "      <th></th>\n",
       "      <th>Day</th>\n",
       "      <th>Temperature</th>\n",
       "      <th>Short_description</th>\n",
       "    </tr>\n",
       "  </thead>\n",
       "  <tbody>\n",
       "    <tr>\n",
       "      <th>0</th>\n",
       "      <td>Today</td>\n",
       "      <td>Low: 58 °F</td>\n",
       "      <td>[Mostly Sunny, [], then Sunny, [], and Breezy]</td>\n",
       "    </tr>\n",
       "    <tr>\n",
       "      <th>1</th>\n",
       "      <td>Tonight</td>\n",
       "      <td>Low: 58 °F</td>\n",
       "      <td>[Mostly Clear, [], and Breezy, [], then Partly...</td>\n",
       "    </tr>\n",
       "    <tr>\n",
       "      <th>2</th>\n",
       "      <td>Tuesday</td>\n",
       "      <td>Low: 58 °F</td>\n",
       "      <td>[Sunny then, [], Sunny and, [], Breezy]</td>\n",
       "    </tr>\n",
       "    <tr>\n",
       "      <th>3</th>\n",
       "      <td>TuesdayNight</td>\n",
       "      <td>Low: 58 °F</td>\n",
       "      <td>[Mostly Clear, [], and Breezy, [], then Mostly...</td>\n",
       "    </tr>\n",
       "    <tr>\n",
       "      <th>4</th>\n",
       "      <td>Wednesday</td>\n",
       "      <td>High: 70 °F</td>\n",
       "      <td>[Partly Sunny, [], then Mostly, [], Sunny and,...</td>\n",
       "    </tr>\n",
       "    <tr>\n",
       "      <th>5</th>\n",
       "      <td>WednesdayNight</td>\n",
       "      <td>High: 73 °F</td>\n",
       "      <td>[Partly Cloudy, [], and Breezy, [], then Mostl...</td>\n",
       "    </tr>\n",
       "    <tr>\n",
       "      <th>6</th>\n",
       "      <td>Thursday</td>\n",
       "      <td>High: 69 °F</td>\n",
       "      <td>[Mostly Sunny]</td>\n",
       "    </tr>\n",
       "    <tr>\n",
       "      <th>7</th>\n",
       "      <td>ThursdayNight</td>\n",
       "      <td>High: 69 °F</td>\n",
       "      <td>[Mostly Cloudy]</td>\n",
       "    </tr>\n",
       "    <tr>\n",
       "      <th>8</th>\n",
       "      <td>Friday</td>\n",
       "      <td>High: 70 °F</td>\n",
       "      <td>[Mostly Sunny]</td>\n",
       "    </tr>\n",
       "  </tbody>\n",
       "</table>\n",
       "</div>"
      ],
      "text/plain": [
       "              Day  Temperature  \\\n",
       "0           Today   Low: 58 °F   \n",
       "1         Tonight   Low: 58 °F   \n",
       "2         Tuesday   Low: 58 °F   \n",
       "3    TuesdayNight   Low: 58 °F   \n",
       "4       Wednesday  High: 70 °F   \n",
       "5  WednesdayNight  High: 73 °F   \n",
       "6        Thursday  High: 69 °F   \n",
       "7   ThursdayNight  High: 69 °F   \n",
       "8          Friday  High: 70 °F   \n",
       "\n",
       "                                   Short_description  \n",
       "0     [Mostly Sunny, [], then Sunny, [], and Breezy]  \n",
       "1  [Mostly Clear, [], and Breezy, [], then Partly...  \n",
       "2            [Sunny then, [], Sunny and, [], Breezy]  \n",
       "3  [Mostly Clear, [], and Breezy, [], then Mostly...  \n",
       "4  [Partly Sunny, [], then Mostly, [], Sunny and,...  \n",
       "5  [Partly Cloudy, [], and Breezy, [], then Mostl...  \n",
       "6                                     [Mostly Sunny]  \n",
       "7                                    [Mostly Cloudy]  \n",
       "8                                     [Mostly Sunny]  "
      ]
     },
     "execution_count": 114,
     "metadata": {},
     "output_type": "execute_result"
    }
   ],
   "source": [
    "DF"
   ]
  },
  {
   "cell_type": "code",
   "execution_count": null,
   "id": "ebd0d7a1",
   "metadata": {},
   "outputs": [],
   "source": []
  },
  {
   "cell_type": "code",
   "execution_count": 115,
   "id": "51182cdd",
   "metadata": {},
   "outputs": [],
   "source": [
    "#9.Write a python program to scrape fresher job listings from internshala.which includes jobtitle,company name,CTC,& apply date.\n"
   ]
  },
  {
   "cell_type": "code",
   "execution_count": 116,
   "id": "7e6de2a9",
   "metadata": {},
   "outputs": [],
   "source": [
    "url = \"https://internshala.com/fresher-jobs\"      \n",
    "response = requests.get(url)"
   ]
  },
  {
   "cell_type": "code",
   "execution_count": 117,
   "id": "3fc11f34",
   "metadata": {},
   "outputs": [],
   "source": [
    "soup = BeautifulSoup(response.content,'html.parser')"
   ]
  },
  {
   "cell_type": "code",
   "execution_count": 118,
   "id": "354da4a4",
   "metadata": {},
   "outputs": [],
   "source": [
    "job = []\n",
    "name = []\n",
    "salary = []\n",
    "date = []\n"
   ]
  },
  {
   "cell_type": "code",
   "execution_count": 119,
   "id": "fd0c32ec",
   "metadata": {},
   "outputs": [],
   "source": [
    "title = soup.find_all('div', class_= \"heading_4_5 profile\")"
   ]
  },
  {
   "cell_type": "code",
   "execution_count": 120,
   "id": "c03a7588",
   "metadata": {},
   "outputs": [
    {
     "data": {
      "text/plain": [
       "['\\nOperations Executive ',\n",
       " '\\nAssociate Full Stack Developer ',\n",
       " '\\nBusiness Development Associate ',\n",
       " '\\nJunior Social Media Marketing Manager ',\n",
       " '\\nMobile App Developer ',\n",
       " '\\nMarketing Manager ',\n",
       " '\\nSoftware Development Engineer (Web) ',\n",
       " '\\nAssociate Creative Designer ',\n",
       " '\\nAssociate Content Writer ',\n",
       " '\\nHuman Resources (HR) Executive ',\n",
       " '\\nSoftware Engineer ',\n",
       " '\\nSalesforce Developer ',\n",
       " '\\nFull Stack Developer ',\n",
       " '\\nBusiness Development Specialist ',\n",
       " '\\nAssociate Software Developer ',\n",
       " '\\nAssociate UI/UX Designer ',\n",
       " '\\nBusiness Development Associate (Sales) ',\n",
       " '\\nReceptionist And Billing Manager ',\n",
       " '\\nNode.js Backend Developer (AWS/GCP/API) ',\n",
       " '\\nBusiness Development Executive ',\n",
       " '\\nSoftware Developer ',\n",
       " '\\nManagement Trainee - Assistant Category Manager ',\n",
       " '\\nAccount Executive - Field Sales ',\n",
       " '\\nSoftware Engineer ',\n",
       " '\\nAssociate Software Developer ',\n",
       " '\\nSocial Media Strategist And Copywriter ',\n",
       " '\\nLevel 1 Technical Support Engineer ',\n",
       " '\\nAssociate Software Developer ',\n",
       " '\\nAccounting Assistant ',\n",
       " '\\nSoftware Engineer ',\n",
       " '\\nBusiness Development Manager ',\n",
       " '\\nBusiness Development Executive ',\n",
       " '\\nProduct Developer - Mathematics ',\n",
       " '\\nSales Development Representative ',\n",
       " '\\nFull Stack Engineer ',\n",
       " '\\nJunior ReactJS Developer ',\n",
       " '\\nMarketing Manager ',\n",
       " '\\nProduct Marketing Associate ',\n",
       " '\\nAdministration Associate ',\n",
       " '\\nAssociate Software Developer ']"
      ]
     },
     "execution_count": 120,
     "metadata": {},
     "output_type": "execute_result"
    }
   ],
   "source": [
    "for i in title:\n",
    "    job.append(i.text)\n",
    "job"
   ]
  },
  {
   "cell_type": "code",
   "execution_count": 121,
   "id": "e2411d1d",
   "metadata": {},
   "outputs": [
    {
     "data": {
      "text/plain": [
       "[<div class=\"heading_6 company_name\">\n",
       " <a class=\"link_display_like_text\" href=\"/fresher-jobs/fresher-job-at-Weave%20Communications%20%26%20Events%20Private%20Limited\">\n",
       "                         Weave Communications &amp; Events Private Limited                    </a>\n",
       " </div>,\n",
       " <div class=\"heading_6 company_name\">\n",
       " <a class=\"link_display_like_text\" href=\"/fresher-jobs/fresher-job-at-REPOZITORY%20TECHNOLOGIES%20PRIVATE%20LIMITED\">\n",
       "                         REPOZITORY TECHNOLOGIES PRIVATE LIMITED                    </a>\n",
       " </div>,\n",
       " <div class=\"heading_6 company_name\">\n",
       " <a class=\"link_display_like_text\" href=\"/fresher-jobs/fresher-job-at-Padhhigh\">\n",
       "                         Padhhigh                    </a>\n",
       " </div>,\n",
       " <div class=\"heading_6 company_name\">\n",
       " <a class=\"link_display_like_text\" href=\"/fresher-jobs/fresher-job-at-Muskurahat%20Foundation\">\n",
       "                         Muskurahat Foundation                    </a>\n",
       " </div>,\n",
       " <div class=\"heading_6 company_name\">\n",
       " <a class=\"link_display_like_text\" href=\"/fresher-jobs/fresher-job-at-Ruhi\">\n",
       "                         Ruhi                    </a>\n",
       " </div>,\n",
       " <div class=\"heading_6 company_name\">\n",
       " <a class=\"link_display_like_text\" href=\"/fresher-jobs/fresher-job-at-DeepThought%20Edutech%20Ventures%20Private%20Limited\">\n",
       "                         DeepThought Edutech Ventures Private Limited                    </a>\n",
       " </div>,\n",
       " <div class=\"heading_6 company_name\">\n",
       " <a class=\"link_display_like_text\" href=\"/fresher-jobs/fresher-job-at-Internshala\">\n",
       "                         Internshala                    </a>\n",
       " </div>,\n",
       " <div class=\"heading_6 company_name\">\n",
       " <a class=\"link_display_like_text\" href=\"/fresher-jobs/fresher-job-at-Muskurahat%20Foundation\">\n",
       "                         Muskurahat Foundation                    </a>\n",
       " </div>,\n",
       " <div class=\"heading_6 company_name\">\n",
       " <a class=\"link_display_like_text\" href=\"/fresher-jobs/fresher-job-at-Muskurahat%20Foundation\">\n",
       "                         Muskurahat Foundation                    </a>\n",
       " </div>,\n",
       " <div class=\"heading_6 company_name\">\n",
       " <a class=\"link_display_like_text\" href=\"/fresher-jobs/fresher-job-at-Muskurahat%20Foundation\">\n",
       "                         Muskurahat Foundation                    </a>\n",
       " </div>,\n",
       " <div class=\"heading_6 company_name\">\n",
       " <a class=\"link_display_like_text\" href=\"/fresher-jobs/fresher-job-at-Vaultedge%20Software%20Private%20Limited\">\n",
       "                         Vaultedge Software Private Limited                    </a>\n",
       " </div>,\n",
       " <div class=\"heading_6 company_name\">\n",
       " <a class=\"link_display_like_text\" href=\"/fresher-jobs/fresher-job-at-Softsensor.ai\">\n",
       "                         Softsensor.ai                    </a>\n",
       " </div>,\n",
       " <div class=\"heading_6 company_name\">\n",
       " <a class=\"link_display_like_text\" href=\"/fresher-jobs/fresher-job-at-ProtonAutoML\">\n",
       "                         ProtonAutoML                    </a>\n",
       " </div>,\n",
       " <div class=\"heading_6 company_name\">\n",
       " <a class=\"link_display_like_text\" href=\"/fresher-jobs/fresher-job-at-ProtonAutoML\">\n",
       "                         ProtonAutoML                    </a>\n",
       " </div>,\n",
       " <div class=\"heading_6 company_name\">\n",
       " <a class=\"link_display_like_text\" href=\"/fresher-jobs/fresher-job-at-RoaDo\">\n",
       "                         RoaDo                    </a>\n",
       " </div>,\n",
       " <div class=\"heading_6 company_name\">\n",
       " <a class=\"link_display_like_text\" href=\"/fresher-jobs/fresher-job-at-RavGins%20International%20Private%20Limited%20%28Wobb.ai%29\">\n",
       "                         RavGins International Private Limited (Wobb.ai)                    </a>\n",
       " </div>,\n",
       " <div class=\"heading_6 company_name\">\n",
       " <a class=\"link_display_like_text\" href=\"/fresher-jobs/fresher-job-at-Global%20Sun\">\n",
       "                         Global Sun                    </a>\n",
       " </div>,\n",
       " <div class=\"heading_6 company_name\">\n",
       " <a class=\"link_display_like_text\" href=\"/fresher-jobs/fresher-job-at-Touchstone%20Partners\">\n",
       "                         Touchstone Partners                    </a>\n",
       " </div>,\n",
       " <div class=\"heading_6 company_name\">\n",
       " <a class=\"link_display_like_text\" href=\"/fresher-jobs/fresher-job-at-Labellerr%20By%20Tensor%20Matics%20Private%20Limited\">\n",
       "                         Labellerr By Tensor Matics Private Limited                    </a>\n",
       " </div>,\n",
       " <div class=\"heading_6 company_name\">\n",
       " <a class=\"link_display_like_text\" href=\"/fresher-jobs/fresher-job-at-UFaber%20Edutech\">\n",
       "                         UFaber Edutech                    </a>\n",
       " </div>,\n",
       " <div class=\"heading_6 company_name\">\n",
       " <a class=\"link_display_like_text\" href=\"/fresher-jobs/fresher-job-at-Aptigenz%20Solutions%20Private%20Limited\">\n",
       "                         Aptigenz Solutions Private Limited                    </a>\n",
       " </div>,\n",
       " <div class=\"heading_6 company_name\">\n",
       " <a class=\"link_display_like_text\" href=\"/fresher-jobs/fresher-job-at-Noise\">\n",
       "                         Noise                    </a>\n",
       " </div>,\n",
       " <div class=\"heading_6 company_name\">\n",
       " <a class=\"link_display_like_text\" href=\"/fresher-jobs/fresher-job-at-RoaDo\">\n",
       "                         RoaDo                    </a>\n",
       " </div>,\n",
       " <div class=\"heading_6 company_name\">\n",
       " <a class=\"link_display_like_text\" href=\"/fresher-jobs/fresher-job-at-CrewKarma\">\n",
       "                         CrewKarma                    </a>\n",
       " </div>,\n",
       " <div class=\"heading_6 company_name\">\n",
       " <a class=\"link_display_like_text\" href=\"/fresher-jobs/fresher-job-at-IQGateway\">\n",
       "                         IQGateway                    </a>\n",
       " </div>,\n",
       " <div class=\"heading_6 company_name\">\n",
       " <a class=\"link_display_like_text\" href=\"/fresher-jobs/fresher-job-at-Internshala\">\n",
       "                         Internshala                    </a>\n",
       " </div>,\n",
       " <div class=\"heading_6 company_name\">\n",
       " <a class=\"link_display_like_text\" href=\"/fresher-jobs/fresher-job-at-Mithi%20Software%20Technologies%20Private%20Limited\">\n",
       "                         Mithi Software Technologies Private Limited                    </a>\n",
       " </div>,\n",
       " <div class=\"heading_6 company_name\">\n",
       " <a class=\"link_display_like_text\" href=\"/fresher-jobs/fresher-job-at-White%20Blink\">\n",
       "                         White Blink                    </a>\n",
       " </div>,\n",
       " <div class=\"heading_6 company_name\">\n",
       " <a class=\"link_display_like_text\" href=\"/fresher-jobs/fresher-job-at-Wono%20Inc\">\n",
       "                         Wono Inc                    </a>\n",
       " </div>,\n",
       " <div class=\"heading_6 company_name\">\n",
       " <a class=\"link_display_like_text\" href=\"/fresher-jobs/fresher-job-at-Wono%20Inc\">\n",
       "                         Wono Inc                    </a>\n",
       " </div>,\n",
       " <div class=\"heading_6 company_name\">\n",
       " <a class=\"link_display_like_text\" href=\"/fresher-jobs/fresher-job-at-Wono%20Inc\">\n",
       "                         Wono Inc                    </a>\n",
       " </div>,\n",
       " <div class=\"heading_6 company_name\">\n",
       " <a class=\"link_display_like_text\" href=\"/fresher-jobs/fresher-job-at-Emertxe%20Information%20Technologies\">\n",
       "                         Emertxe Information Technologies                    </a>\n",
       " </div>,\n",
       " <div class=\"heading_6 company_name\">\n",
       " <a class=\"link_display_like_text\" href=\"/fresher-jobs/fresher-job-at-Open%20Door%20Education\">\n",
       "                         Open Door Education                    </a>\n",
       " </div>,\n",
       " <div class=\"heading_6 company_name\">\n",
       " <a class=\"link_display_like_text\" href=\"/fresher-jobs/fresher-job-at-Content%20Beta\">\n",
       "                         Content Beta                    </a>\n",
       " </div>,\n",
       " <div class=\"heading_6 company_name\">\n",
       " <a class=\"link_display_like_text\" href=\"/fresher-jobs/fresher-job-at-Softway%20Solutions%20Private%20Limited\">\n",
       "                         Softway Solutions Private Limited                    </a>\n",
       " </div>,\n",
       " <div class=\"heading_6 company_name\">\n",
       " <a class=\"link_display_like_text\" href=\"/fresher-jobs/fresher-job-at-DeepThought%20Edutech%20Ventures%20Private%20Limited\">\n",
       "                         DeepThought Edutech Ventures Private Limited                    </a>\n",
       " </div>,\n",
       " <div class=\"heading_6 company_name\">\n",
       " <a class=\"link_display_like_text\" href=\"/fresher-jobs/fresher-job-at-Saltoro%20Coffee%20Roasters\">\n",
       "                         Saltoro Coffee Roasters                    </a>\n",
       " </div>,\n",
       " <div class=\"heading_6 company_name\">\n",
       " <a class=\"link_display_like_text\" href=\"/fresher-jobs/fresher-job-at-WebMOBI\">\n",
       "                         WebMOBI                    </a>\n",
       " </div>,\n",
       " <div class=\"heading_6 company_name\">\n",
       " <a class=\"link_display_like_text\" href=\"/fresher-jobs/fresher-job-at-Global%20Sun\">\n",
       "                         Global Sun                    </a>\n",
       " </div>,\n",
       " <div class=\"heading_6 company_name\">\n",
       " <a class=\"link_display_like_text\" href=\"/fresher-jobs/fresher-job-at-Medico%20Healthcare%20Services%20%26%20Technologies\">\n",
       "                         Medico Healthcare Services &amp; Technologies                    </a>\n",
       " </div>]"
      ]
     },
     "execution_count": 121,
     "metadata": {},
     "output_type": "execute_result"
    }
   ],
   "source": [
    "company = soup.find_all('div', class_= \"heading_6 company_name\")\n",
    "company"
   ]
  },
  {
   "cell_type": "code",
   "execution_count": 122,
   "id": "8ea5b293",
   "metadata": {},
   "outputs": [
    {
     "data": {
      "text/plain": [
       "['\\n\\n                        Weave Communications & Events Private Limited                    \\n',\n",
       " '\\n\\n                        REPOZITORY TECHNOLOGIES PRIVATE LIMITED                    \\n',\n",
       " '\\n\\n                        Padhhigh                    \\n',\n",
       " '\\n\\n                        Muskurahat Foundation                    \\n',\n",
       " '\\n\\n                        Ruhi                    \\n',\n",
       " '\\n\\n                        DeepThought Edutech Ventures Private Limited                    \\n',\n",
       " '\\n\\n                        Internshala                    \\n',\n",
       " '\\n\\n                        Muskurahat Foundation                    \\n',\n",
       " '\\n\\n                        Muskurahat Foundation                    \\n',\n",
       " '\\n\\n                        Muskurahat Foundation                    \\n',\n",
       " '\\n\\n                        Vaultedge Software Private Limited                    \\n',\n",
       " '\\n\\n                        Softsensor.ai                    \\n',\n",
       " '\\n\\n                        ProtonAutoML                    \\n',\n",
       " '\\n\\n                        ProtonAutoML                    \\n',\n",
       " '\\n\\n                        RoaDo                    \\n',\n",
       " '\\n\\n                        RavGins International Private Limited (Wobb.ai)                    \\n',\n",
       " '\\n\\n                        Global Sun                    \\n',\n",
       " '\\n\\n                        Touchstone Partners                    \\n',\n",
       " '\\n\\n                        Labellerr By Tensor Matics Private Limited                    \\n',\n",
       " '\\n\\n                        UFaber Edutech                    \\n',\n",
       " '\\n\\n                        Aptigenz Solutions Private Limited                    \\n',\n",
       " '\\n\\n                        Noise                    \\n',\n",
       " '\\n\\n                        RoaDo                    \\n',\n",
       " '\\n\\n                        CrewKarma                    \\n',\n",
       " '\\n\\n                        IQGateway                    \\n',\n",
       " '\\n\\n                        Internshala                    \\n',\n",
       " '\\n\\n                        Mithi Software Technologies Private Limited                    \\n',\n",
       " '\\n\\n                        White Blink                    \\n',\n",
       " '\\n\\n                        Wono Inc                    \\n',\n",
       " '\\n\\n                        Wono Inc                    \\n',\n",
       " '\\n\\n                        Wono Inc                    \\n',\n",
       " '\\n\\n                        Emertxe Information Technologies                    \\n',\n",
       " '\\n\\n                        Open Door Education                    \\n',\n",
       " '\\n\\n                        Content Beta                    \\n',\n",
       " '\\n\\n                        Softway Solutions Private Limited                    \\n',\n",
       " '\\n\\n                        DeepThought Edutech Ventures Private Limited                    \\n',\n",
       " '\\n\\n                        Saltoro Coffee Roasters                    \\n',\n",
       " '\\n\\n                        WebMOBI                    \\n',\n",
       " '\\n\\n                        Global Sun                    \\n',\n",
       " '\\n\\n                        Medico Healthcare Services & Technologies                    \\n']"
      ]
     },
     "execution_count": 122,
     "metadata": {},
     "output_type": "execute_result"
    }
   ],
   "source": [
    "for i in company:\n",
    "    name.append(i.text)\n",
    "name"
   ]
  },
  {
   "cell_type": "code",
   "execution_count": null,
   "id": "47b332a9",
   "metadata": {},
   "outputs": [],
   "source": [
    "##### DUE to the variation n lenght didnt frame a dataset."
   ]
  },
  {
   "cell_type": "code",
   "execution_count": null,
   "id": "368a127a",
   "metadata": {},
   "outputs": [],
   "source": []
  },
  {
   "cell_type": "code",
   "execution_count": null,
   "id": "658a6ac7",
   "metadata": {},
   "outputs": [],
   "source": [
    "#10.Write a python program to scrape house details from given url. It should include house title, location, area, emi and price."
   ]
  },
  {
   "cell_type": "code",
   "execution_count": 123,
   "id": "a673a0da",
   "metadata": {},
   "outputs": [],
   "source": [
    "url = \"https://www.nobroker.in/property/sale/bangalore/Bengaluru?searchParam=W3sibGF0IjoxMi45NzE1OTg3LCJsb24iOjc3LjU5NDU2MjcsInBsYWNlSWQiOiJDaElKYlU2MHlYQVdyanNSNEU5LVVlakQzX2ciLCJwbGFjZU5hbWUiOiJCZW5nYWx1cnUiLCJzaG93TWFwIjpmYWxzZX1d\"\n",
    "response = requests.get(url)"
   ]
  },
  {
   "cell_type": "code",
   "execution_count": 124,
   "id": "8738f2cb",
   "metadata": {},
   "outputs": [],
   "source": [
    "soup = BeautifulSoup(response.content,'html.parser')"
   ]
  },
  {
   "cell_type": "code",
   "execution_count": 125,
   "id": "401626f8",
   "metadata": {},
   "outputs": [],
   "source": [
    "house_name = []\n",
    "location = []\n",
    "area = []\n",
    "emi = []\n",
    "price = []"
   ]
  },
  {
   "cell_type": "code",
   "execution_count": 126,
   "id": "7aaab299",
   "metadata": {},
   "outputs": [],
   "source": [
    "name = soup.find_all('a', class_= \"nb__3CnI6\")"
   ]
  },
  {
   "cell_type": "code",
   "execution_count": 127,
   "id": "ade41d6b",
   "metadata": {},
   "outputs": [
    {
     "data": {
      "text/plain": [
       "['2 BHK Flat  For Sale  In Apartment  In Padmanabhanagar ',\n",
       " '3 BHK Flat  For Sale  In Jnanabharathi Layout ',\n",
       " '3 BHK Flat  For Sale  In Snn Raj Serenity , Yelenahalli In Yelenahalli ',\n",
       " '2 BHK Apartment  For Sale  In Cr Silver Woods Apartment In Kasturi Nagar ',\n",
       " '2 BHK Apartment  For Sale  In Prabhavathi Heaven Apartment In Btm 4th Stage , Bommanahalli ',\n",
       " '2 BHK Apartment  For Sale  In Unicca Emporis In Varthur ',\n",
       " '3 BHK Apartment  For Sale  In Sraddha Fairmount In Hsr Layout ',\n",
       " '2 BHK Apartment  For Sale  In Sriya Residency In Varadarajulayout ',\n",
       " '2 BHK Apartment  For Sale  In Soorya Symphony In Horamavu ',\n",
       " '2 BHK Apartment  For Sale  In Sai Shakti Enclave In Rr Nagar ']"
      ]
     },
     "execution_count": 127,
     "metadata": {},
     "output_type": "execute_result"
    }
   ],
   "source": [
    "for i in name:\n",
    "    house_name.append(i.text)\n",
    "house_name"
   ]
  },
  {
   "cell_type": "code",
   "execution_count": 128,
   "id": "f37126dd",
   "metadata": {},
   "outputs": [],
   "source": [
    "place = soup.find_all('div', class_= \"nb__35Ol7\")"
   ]
  },
  {
   "cell_type": "code",
   "execution_count": 129,
   "id": "fcb6592d",
   "metadata": {},
   "outputs": [
    {
     "data": {
      "text/plain": [
       "['Banashankari Stage II, Near Carmel SchoolExplore Nearby',\n",
       " 'Standalone Building, 280 no sri lakshmi Ranganath krupa,Explore Nearby',\n",
       " 'Bannerghatta Road, near EuroKids Pre-SchoolExplore Nearby',\n",
       " 'Cr Silver Woods Apartment\\xa0 B Channasandra Rd, B Channasandra, Kasturi Nagar, Bengaluru, Karnataka 560043, IndiaExplore Nearby',\n",
       " 'Prabhavathi Heaven Apartment\\xa0 3rd Cross, 1st Main, BTM 4th Stage, Near Bus Stop, SBI Colony, Devarachiknahalli, Bommanahalli, Bengaluru, Karnataka 560076, IndiaExplore Nearby',\n",
       " 'Unicca Emporis\\xa0 Madhura Nagar, Varthur, Bengaluru, Karnataka 560087, IndiaExplore Nearby',\n",
       " 'Sraddha Fairmount\\xa0 Sraddha Fairmount, PWD Quarters, 1st Sector, HSR Layout, Bengaluru, Karnataka 560068, IndiaExplore Nearby',\n",
       " 'Sriya Residency\\xa0 Varadarajulayout, 8B cross,Amruthahalli,Benguluru-, 560092, IndiaExplore Nearby',\n",
       " 'Soorya Symphony\\xa0 Soorya Symphony, 1/5B, Horamavu, Bengaluru, Karnataka 560043, IndiaExplore Nearby',\n",
       " 'Sai Shakti Enclave\\xa0 Halagevaderahalli road, RR Nagar, Bengaluru, Karnataka 560098, IndiaExplore Nearby']"
      ]
     },
     "execution_count": 129,
     "metadata": {},
     "output_type": "execute_result"
    }
   ],
   "source": [
    "for i in place:\n",
    "    location.append(i.text)\n",
    "location"
   ]
  },
  {
   "cell_type": "code",
   "execution_count": 130,
   "id": "343ee13b",
   "metadata": {},
   "outputs": [
    {
     "data": {
      "text/plain": [
       "[<div class=\"nb__3oNyC\">1,150 sqft</div>,\n",
       " <div class=\"nb__3oNyC\">1,800 sqft</div>,\n",
       " <div class=\"nb__3oNyC\">1,185 sqft</div>,\n",
       " <div class=\"nb__3oNyC\">1,199 sqft</div>,\n",
       " <div class=\"nb__3oNyC\">1,018 sqft</div>,\n",
       " <div class=\"nb__3oNyC\">1,402 sqft</div>,\n",
       " <div class=\"nb__3oNyC\">1,600 sqft</div>,\n",
       " <div class=\"nb__3oNyC\">1,025 sqft</div>,\n",
       " <div class=\"nb__3oNyC\">1,080 sqft</div>,\n",
       " <div class=\"nb__3oNyC\">1,090 sqft</div>]"
      ]
     },
     "execution_count": 130,
     "metadata": {},
     "output_type": "execute_result"
    }
   ],
   "source": [
    "space = soup.find_all('div', class_= \"nb__3oNyC\")\n",
    "space"
   ]
  },
  {
   "cell_type": "code",
   "execution_count": 131,
   "id": "7e08267d",
   "metadata": {},
   "outputs": [
    {
     "data": {
      "text/plain": [
       "['1,150 sqft',\n",
       " '1,800 sqft',\n",
       " '1,185 sqft',\n",
       " '1,199 sqft',\n",
       " '1,018 sqft',\n",
       " '1,402 sqft',\n",
       " '1,600 sqft',\n",
       " '1,025 sqft',\n",
       " '1,080 sqft',\n",
       " '1,090 sqft']"
      ]
     },
     "execution_count": 131,
     "metadata": {},
     "output_type": "execute_result"
    }
   ],
   "source": [
    "for i in space:\n",
    "    area.append(i.text)\n",
    "area"
   ]
  },
  {
   "cell_type": "code",
   "execution_count": 132,
   "id": "e11d22be",
   "metadata": {},
   "outputs": [],
   "source": [
    "data = []"
   ]
  },
  {
   "cell_type": "code",
   "execution_count": 133,
   "id": "892a9f58",
   "metadata": {},
   "outputs": [],
   "source": [
    "data = soup.find_all('div', class_= \"nb__17R6o\")"
   ]
  },
  {
   "cell_type": "code",
   "execution_count": 134,
   "id": "5acebad0",
   "metadata": {},
   "outputs": [],
   "source": [
    "installment =[]"
   ]
  },
  {
   "cell_type": "code",
   "execution_count": 135,
   "id": "c4ee8432",
   "metadata": {},
   "outputs": [
    {
     "data": {
      "text/plain": [
       "['Title not verifiedNot under loan₹ 1,150 sqftBuiltup₹48,717/MonthEstimated EMI₹85 Lacs₹7,391 per sq.ft.',\n",
       " 'Title not verifiedUnder Loan₹ 1,800 sqftBuiltup₹52,729/MonthEstimated EMI₹92 Lacs₹5,111 per sq.ft.',\n",
       " 'Title not verifiedNot under loan₹ 1,185 sqftBuiltup₹43,559/MonthEstimated EMI₹76 Lacs₹6,414 per sq.ft.',\n",
       " 'Title not verifiedNot under loan₹ 1,199 sqftBuiltup₹4,585/MonthEstimated EMI₹8 Lacs₹667 per sq.ft.',\n",
       " 'Title not verifiedNot under loan₹ 1,018 sqftBuiltup₹25,218/MonthEstimated EMI₹44 Lacs₹4,322 per sq.ft.',\n",
       " 'Title not verifiedUnder Loan₹ 1,402 sqftBuiltup₹65,911/MonthEstimated EMI₹1.15 Crores₹8,203 per sq.ft.',\n",
       " 'Title not verifiedNot under loan₹ 1,600 sqftBuiltup₹57,314/MonthEstimated EMI₹1 Crore₹6,250 per sq.ft.',\n",
       " 'Title not verifiedNot under loan₹ 1,025 sqftBuiltup₹31,522/MonthEstimated EMI₹55 Lacs₹5,366 per sq.ft.',\n",
       " 'Title not verifiedNot under loan₹ 1,080 sqftBuiltup₹23,498/MonthEstimated EMI₹41 Lacs₹3,796 per sq.ft.',\n",
       " 'Title not verifiedNot under loan₹ 1,090 sqftBuiltup₹35,534/MonthEstimated EMI₹62 Lacs₹5,688 per sq.ft.']"
      ]
     },
     "execution_count": 135,
     "metadata": {},
     "output_type": "execute_result"
    }
   ],
   "source": [
    "for i in data:\n",
    "    installment.append(i.text)\n",
    "installment"
   ]
  },
  {
   "cell_type": "code",
   "execution_count": 138,
   "id": "43b9b9e4",
   "metadata": {},
   "outputs": [],
   "source": [
    "for i in range(0,len(installment),5):    # couldn't extract the emi and price even after the suggested steps by you.\n",
    "    emi.append(installment[i])\n",
    "    price.append(installment[i+3])"
   ]
  },
  {
   "cell_type": "code",
   "execution_count": 139,
   "id": "6015856b",
   "metadata": {},
   "outputs": [],
   "source": [
    "DF = pd.DataFrame({'House Title': house_name, 'Location': location,'Area': area,})\n",
    "# excluded the price and emi to form a dataset"
   ]
  },
  {
   "cell_type": "code",
   "execution_count": 140,
   "id": "65cbdff2",
   "metadata": {},
   "outputs": [
    {
     "data": {
      "text/html": [
       "<div>\n",
       "<style scoped>\n",
       "    .dataframe tbody tr th:only-of-type {\n",
       "        vertical-align: middle;\n",
       "    }\n",
       "\n",
       "    .dataframe tbody tr th {\n",
       "        vertical-align: top;\n",
       "    }\n",
       "\n",
       "    .dataframe thead th {\n",
       "        text-align: right;\n",
       "    }\n",
       "</style>\n",
       "<table border=\"1\" class=\"dataframe\">\n",
       "  <thead>\n",
       "    <tr style=\"text-align: right;\">\n",
       "      <th></th>\n",
       "      <th>House Title</th>\n",
       "      <th>Location</th>\n",
       "      <th>Area</th>\n",
       "    </tr>\n",
       "  </thead>\n",
       "  <tbody>\n",
       "    <tr>\n",
       "      <th>0</th>\n",
       "      <td>2 BHK Flat  For Sale  In Apartment  In Padmana...</td>\n",
       "      <td>Banashankari Stage II, Near Carmel SchoolExplo...</td>\n",
       "      <td>1,150 sqft</td>\n",
       "    </tr>\n",
       "    <tr>\n",
       "      <th>1</th>\n",
       "      <td>3 BHK Flat  For Sale  In Jnanabharathi Layout</td>\n",
       "      <td>Standalone Building, 280 no sri lakshmi Rangan...</td>\n",
       "      <td>1,800 sqft</td>\n",
       "    </tr>\n",
       "    <tr>\n",
       "      <th>2</th>\n",
       "      <td>3 BHK Flat  For Sale  In Snn Raj Serenity , Ye...</td>\n",
       "      <td>Bannerghatta Road, near EuroKids Pre-SchoolExp...</td>\n",
       "      <td>1,185 sqft</td>\n",
       "    </tr>\n",
       "    <tr>\n",
       "      <th>3</th>\n",
       "      <td>2 BHK Apartment  For Sale  In Cr Silver Woods ...</td>\n",
       "      <td>Cr Silver Woods Apartment  B Channasandra Rd, ...</td>\n",
       "      <td>1,199 sqft</td>\n",
       "    </tr>\n",
       "    <tr>\n",
       "      <th>4</th>\n",
       "      <td>2 BHK Apartment  For Sale  In Prabhavathi Heav...</td>\n",
       "      <td>Prabhavathi Heaven Apartment  3rd Cross, 1st M...</td>\n",
       "      <td>1,018 sqft</td>\n",
       "    </tr>\n",
       "    <tr>\n",
       "      <th>5</th>\n",
       "      <td>2 BHK Apartment  For Sale  In Unicca Emporis I...</td>\n",
       "      <td>Unicca Emporis  Madhura Nagar, Varthur, Bengal...</td>\n",
       "      <td>1,402 sqft</td>\n",
       "    </tr>\n",
       "    <tr>\n",
       "      <th>6</th>\n",
       "      <td>3 BHK Apartment  For Sale  In Sraddha Fairmoun...</td>\n",
       "      <td>Sraddha Fairmount  Sraddha Fairmount, PWD Quar...</td>\n",
       "      <td>1,600 sqft</td>\n",
       "    </tr>\n",
       "    <tr>\n",
       "      <th>7</th>\n",
       "      <td>2 BHK Apartment  For Sale  In Sriya Residency ...</td>\n",
       "      <td>Sriya Residency  Varadarajulayout, 8B cross,Am...</td>\n",
       "      <td>1,025 sqft</td>\n",
       "    </tr>\n",
       "    <tr>\n",
       "      <th>8</th>\n",
       "      <td>2 BHK Apartment  For Sale  In Soorya Symphony ...</td>\n",
       "      <td>Soorya Symphony  Soorya Symphony, 1/5B, Horama...</td>\n",
       "      <td>1,080 sqft</td>\n",
       "    </tr>\n",
       "    <tr>\n",
       "      <th>9</th>\n",
       "      <td>2 BHK Apartment  For Sale  In Sai Shakti Encla...</td>\n",
       "      <td>Sai Shakti Enclave  Halagevaderahalli road, RR...</td>\n",
       "      <td>1,090 sqft</td>\n",
       "    </tr>\n",
       "  </tbody>\n",
       "</table>\n",
       "</div>"
      ],
      "text/plain": [
       "                                         House Title  \\\n",
       "0  2 BHK Flat  For Sale  In Apartment  In Padmana...   \n",
       "1     3 BHK Flat  For Sale  In Jnanabharathi Layout    \n",
       "2  3 BHK Flat  For Sale  In Snn Raj Serenity , Ye...   \n",
       "3  2 BHK Apartment  For Sale  In Cr Silver Woods ...   \n",
       "4  2 BHK Apartment  For Sale  In Prabhavathi Heav...   \n",
       "5  2 BHK Apartment  For Sale  In Unicca Emporis I...   \n",
       "6  3 BHK Apartment  For Sale  In Sraddha Fairmoun...   \n",
       "7  2 BHK Apartment  For Sale  In Sriya Residency ...   \n",
       "8  2 BHK Apartment  For Sale  In Soorya Symphony ...   \n",
       "9  2 BHK Apartment  For Sale  In Sai Shakti Encla...   \n",
       "\n",
       "                                            Location        Area  \n",
       "0  Banashankari Stage II, Near Carmel SchoolExplo...  1,150 sqft  \n",
       "1  Standalone Building, 280 no sri lakshmi Rangan...  1,800 sqft  \n",
       "2  Bannerghatta Road, near EuroKids Pre-SchoolExp...  1,185 sqft  \n",
       "3  Cr Silver Woods Apartment  B Channasandra Rd, ...  1,199 sqft  \n",
       "4  Prabhavathi Heaven Apartment  3rd Cross, 1st M...  1,018 sqft  \n",
       "5  Unicca Emporis  Madhura Nagar, Varthur, Bengal...  1,402 sqft  \n",
       "6  Sraddha Fairmount  Sraddha Fairmount, PWD Quar...  1,600 sqft  \n",
       "7  Sriya Residency  Varadarajulayout, 8B cross,Am...  1,025 sqft  \n",
       "8  Soorya Symphony  Soorya Symphony, 1/5B, Horama...  1,080 sqft  \n",
       "9  Sai Shakti Enclave  Halagevaderahalli road, RR...  1,090 sqft  "
      ]
     },
     "execution_count": 140,
     "metadata": {},
     "output_type": "execute_result"
    }
   ],
   "source": [
    "DF"
   ]
  },
  {
   "cell_type": "code",
   "execution_count": null,
   "id": "e3614350",
   "metadata": {},
   "outputs": [],
   "source": []
  },
  {
   "cell_type": "code",
   "execution_count": null,
   "id": "64af50af",
   "metadata": {},
   "outputs": [],
   "source": [
    "#Thank you\n",
    "# i have tried to add comments for the better understandings of the steps.\n",
    "# i have not added the other parts of question 5 and whole 6th question as i faced similar issue in the sub-questions as i faced in 5th question"
   ]
  }
 ],
 "metadata": {
  "kernelspec": {
   "display_name": "Python 3",
   "language": "python",
   "name": "python3"
  },
  "language_info": {
   "codemirror_mode": {
    "name": "ipython",
    "version": 3
   },
   "file_extension": ".py",
   "mimetype": "text/x-python",
   "name": "python",
   "nbconvert_exporter": "python",
   "pygments_lexer": "ipython3",
   "version": "3.8.8"
  }
 },
 "nbformat": 4,
 "nbformat_minor": 5
}
